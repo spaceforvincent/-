{
 "cells": [
  {
   "cell_type": "code",
   "execution_count": null,
   "id": "078c80da",
   "metadata": {},
   "outputs": [],
   "source": [
    "import pandas as pd\n",
    "pd.set_option('display.max_columns',None)\n",
    "\n",
    "X_test = pd.read_csv('data/X_test.csv')\n",
    "X_train = pd.read_csv('data/X_train.csv')\n",
    "y_train = pd.read_csv('data/y_train.csv')"
   ]
  },
  {
   "cell_type": "markdown",
   "id": "6f83b035",
   "metadata": {},
   "source": [
    "# EDA 및 데이터 전처리"
   ]
  },
  {
   "cell_type": "code",
   "execution_count": null,
   "id": "06748485",
   "metadata": {},
   "outputs": [],
   "source": [
    "train = pd.merge(X_train,y_train)\n",
    "test = X_test.copy()\n",
    "\n",
    "#1-1. 결측값 확인\n",
    "#print(train.isnull().sum())\n",
    "#print(test.isnull().sum())\n",
    "#환불금액 null 값들 0으로 교체해야 한다는 것 확인\n",
    "train['환불금액'] = train['환불금액'].fillna(0)\n",
    "test['환불금액'] = test['환불금액'].fillna(0)\n",
    "\n",
    "#1-2. 기술통계 확인\n",
    "#print(train.describe())\n",
    "#print(test.describe())\n",
    "#총 구매액과 최대구매액에서 최소값이 음수로 나오는 것 확인. 0 이상인 값들만 취급하기로 함\n",
    "\n",
    "train = train[(train['총구매액'] > 0) & (train['최대구매액'] > 0)]\n",
    "test = test[(test['총구매액'] > 0) & (test['최대구매액'] > 0)]\n",
    "\n",
    "#인덱스 재정렬\n",
    "train = train.reset_index(drop = True)\n",
    "test = test.reset_index(drop = True)\n",
    "\n",
    "#데이터 타입 확인\n",
    "#print(train.info())\n",
    "#주구매지점, 주구매상품 제외하고 전부 수치형.\n",
    "#범주형은 원핫인코딩, 수치형은 표준화 스케일링 위해 분리\n",
    "\n",
    "#수치형 분리방법\n",
    "train_numer = train.select_dtypes(exclude = 'object')\n",
    "test_numer = test.select_dtypes(exclude = 'object')\n",
    "train_category = train.select_dtypes(include = 'object')\n",
    "test_category = test.select_dtypes(include = 'object')\n",
    "\n",
    "num_columns = train_numer.columns[1:8] #cust_id, gender(종속변수) 제외\n",
    "cat_columns = train_category.columns\n",
    "\n",
    "#수치형 스케일링\n",
    "from sklearn.preprocessing import StandardScaler\n",
    "sc = StandardScaler()\n",
    "train_numer.iloc[:,1:8] = pd.DataFrame(sc.fit_transform(train_numer.iloc[:,1:8]))\n",
    "test_numer.iloc[:,1:] = pd.DataFrame(sc.transform(test_numer.iloc[:,1:])) #cust_id 제외\n",
    "\n",
    "#범주형 원핫인코딩\n",
    "oh_product_train = pd.get_dummies(train_category['주구매상품'])\n",
    "oh_store_train = pd.get_dummies(train_category['주구매지점'])\n",
    "oh_product_test = pd.get_dummies(test_category['주구매상품'])\n",
    "oh_store_test = pd.get_dummies(test_category['주구매지점'])\n",
    "\n",
    "#스케일링, 원핫인코딩 된 데이터 프레임 생성\n",
    "train = pd.concat([train_numer,oh_product_train,oh_store_train],axis=1)\n",
    "test = pd.concat([test_numer,oh_product_test,oh_store_test],axis=1)"
   ]
  },
  {
   "cell_type": "markdown",
   "id": "f08110f1",
   "metadata": {},
   "source": [
    "# 모델링 및 구현"
   ]
  },
  {
   "cell_type": "code",
   "execution_count": null,
   "id": "589acf81",
   "metadata": {},
   "outputs": [],
   "source": [
    "from sklearn.model_selection import train_test_split, cross_val_score\n",
    "from sklearn.ensemble import RandomForestClassifier\n",
    "from sklearn.linear_model import LogisticRegression\n",
    "\n",
    "X = train.drop(['cust_id','gender','소형가전'],axis = 1) #train에만 소형가전이 있고 test에는 없어서 드랍\n",
    "y = train['gender']\n",
    "X_train,X_valid,y_train,y_valid = train_test_split(X,y,test_size = 0.25, stratify = y)\n",
    "\n",
    "lr = LogisticRegression()\n",
    "lr.fit(X,y)\n",
    "scores = cross_val_score(lr,X,y,cv = 5, scoring = 'roc_auc')\n",
    "\n",
    "print(\"scores : \", scores)\n",
    "print(\"\\nAverage Score : \", scores.mean())\n",
    "\n",
    "test_gender = test.drop(['cust_id'],axis = 1)\n",
    "test_gender = pd.Series(lr.predict_proba(test_gender)[:,1], name = 'gender')\n",
    "results = pd.concat([test.cust_id, test_gender],axis=1)\n",
    "#print(results)\n",
    "results.to_csv(\"수험번호.csv\",index = False)"
   ]
  }
 ],
 "metadata": {
  "kernelspec": {
   "display_name": "Python 3 (ipykernel)",
   "language": "python",
   "name": "python3"
  },
  "language_info": {
   "codemirror_mode": {
    "name": "ipython",
    "version": 3
   },
   "file_extension": ".py",
   "mimetype": "text/x-python",
   "name": "python",
   "nbconvert_exporter": "python",
   "pygments_lexer": "ipython3",
   "version": "3.9.9"
  },
  "toc": {
   "base_numbering": 1,
   "nav_menu": {},
   "number_sections": true,
   "sideBar": true,
   "skip_h1_title": false,
   "title_cell": "Table of Contents",
   "title_sidebar": "Contents",
   "toc_cell": false,
   "toc_position": {},
   "toc_section_display": true,
   "toc_window_display": false
  },
  "varInspector": {
   "cols": {
    "lenName": 16,
    "lenType": 16,
    "lenVar": 40
   },
   "kernels_config": {
    "python": {
     "delete_cmd_postfix": "",
     "delete_cmd_prefix": "del ",
     "library": "var_list.py",
     "varRefreshCmd": "print(var_dic_list())"
    },
    "r": {
     "delete_cmd_postfix": ") ",
     "delete_cmd_prefix": "rm(",
     "library": "var_list.r",
     "varRefreshCmd": "cat(var_dic_list()) "
    }
   },
   "types_to_exclude": [
    "module",
    "function",
    "builtin_function_or_method",
    "instance",
    "_Feature"
   ],
   "window_display": false
  }
 },
 "nbformat": 4,
 "nbformat_minor": 5
}
